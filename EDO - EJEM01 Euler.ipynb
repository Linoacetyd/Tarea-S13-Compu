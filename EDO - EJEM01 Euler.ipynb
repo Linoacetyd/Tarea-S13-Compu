{
 "cells": [
  {
   "cell_type": "markdown",
   "id": "6398b741",
   "metadata": {},
   "source": [
    "### DIEGO OBANDO FONSECA 2019064598"
   ]
  },
  {
   "cell_type": "code",
   "execution_count": 2,
   "id": "da24c2a5",
   "metadata": {},
   "outputs": [],
   "source": [
    "import numpy as np\n",
    "import matplotlib.pyplot as plt"
   ]
  },
  {
   "cell_type": "code",
   "execution_count": 4,
   "id": "995738cf",
   "metadata": {},
   "outputs": [],
   "source": [
    "def Trapezoide(y0,yi,i,t):\n",
    "    Wi = y0 + (h) * (1/2) * (F(y0,t[i]) + F(yi, t[i+1]))\n",
    "    return(Wi)"
   ]
  },
  {
   "cell_type": "code",
   "execution_count": 5,
   "id": "65798784",
   "metadata": {},
   "outputs": [],
   "source": [
    "def EDOEuler_m(y0, t):\n",
    "    '''Esta función aproxima la solución de la EDO de primer orden\n",
    "    y'=f(y,t) por medio del método de Euler.\n",
    "\n",
    "    Parámetros de la función\n",
    "    ------------------------\n",
    "    f : función de las variables y, t de la EDO\n",
    "\n",
    "    y0 : valor inicial de y en t = t0, es decir, y(t0) = y0\n",
    "\n",
    "    t : conjunto de los valores de t en que se aproximarán los valores de y,\n",
    "        en forma de una arreglo en una dimensión (1D)\n",
    "\n",
    "    Salida de la función\n",
    "    --------------------\n",
    "    y : arreglo 1D con los valores aproximados de y(t) por medio del método de\n",
    "        Euler\n",
    "    '''\n",
    "    # Se inicializa el arreglo con los valores aproximados utilizando la\n",
    "    # cantidad de valores de t de interés\n",
    "    y = np.zeros(len(t))\n",
    "    \n",
    "    # Se establece la condición inicial\n",
    "    y[0] = y0\n",
    "    # Se realiza el cálculo de los valores aproximados de y para cada t\n",
    "    # El ciclo for inicia en 0 y termina en lent(t)-1 pues el primer \n",
    "    # elemento de los arrays de numpy tiene el índice 0 y a partir\n",
    "    # de este elemento se tienen que contar los lent(t) demás\n",
    "    for i in range(0, len(t)-1):\n",
    "        y[i+1] = y[i]+h*F(y[i], t[i])\n",
    "        y[i+1] = Trapezoide(y[i],y[i+1],i,t)\n",
    "    return y        "
   ]
  },
  {
   "cell_type": "code",
   "execution_count": 10,
   "id": "e263c9c7",
   "metadata": {
    "lines_to_next_cell": 1
   },
   "outputs": [],
   "source": [
    "def EDOEuler(f, y0, t):\n",
    "    '''Esta función aproxima la solución de la EDO de primer orden\n",
    "    y'=f(y,t) por medio del método de Euler.\n",
    "\n",
    "    Parámetros de la función\n",
    "    ------------------------\n",
    "    f : función de las variables y, t de la EDO\n",
    "\n",
    "    y0 : valor inicial de y en t = t0, es decir, y(t0) = y0\n",
    "\n",
    "    t : conjunto de los valores de t en que se aproximarán los valores de y,\n",
    "        en forma de una arreglo en una dimensión (1D)\n",
    "\n",
    "    Salida de la función\n",
    "    --------------------\n",
    "    y : arreglo 1D con los valores aproximados de y(t) por medio del método de\n",
    "        Euler\n",
    "    '''\n",
    "    # Se inicializa el arreglo con los valores aproximados utilizando la\n",
    "    # cantidad de valores de t de interés\n",
    "    y = np.zeros(len(t))\n",
    "\n",
    "    # Se establece la condición inicial\n",
    "    y[0] = y0\n",
    "    \n",
    "    # Se realiza el cálculo de los valores aproximados de y para cada t\n",
    "    # El ciclo for inicia en 0 y termina en lent(t)-1 pues el primer \n",
    "    # elemento de los arrays de numpy tiene el índice 0 y a partir\n",
    "    # de este elemento se tienen que contar los lent(t) demás\n",
    "    for i in range(0, len(t)-1):\n",
    "        y[i+1] = y[i]+h*F(y[i], t[i])\n",
    "    return y"
   ]
  },
  {
   "cell_type": "code",
   "execution_count": 6,
   "id": "2e9b0697",
   "metadata": {
    "lines_to_next_cell": 1
   },
   "outputs": [],
   "source": [
    "def F(y, t):\n",
    "    '''Esta función calcula el valor de la función F que corresponde\n",
    "    a la EDO de primer orden y'=F(y, t)\n",
    "\n",
    "    Parámetros de la función\n",
    "    ------------------------\n",
    "    y : valor y para un punto t particular\n",
    "\n",
    "    t : valor particular de t\n",
    "\n",
    "    Salida de la función\n",
    "    --------------------\n",
    "    valorF : valor de la función evaludada\n",
    "    '''\n",
    "    # Para el caso del decaimiento de partículas inestables\n",
    "    valorF = -y\n",
    "    return valorF"
   ]
  },
  {
   "cell_type": "code",
   "execution_count": 7,
   "id": "99d3f498",
   "metadata": {},
   "outputs": [],
   "source": [
    "# Se define el paso de interés para la aplicación de método de Euler\n",
    "h = 0.25"
   ]
  },
  {
   "cell_type": "code",
   "execution_count": 8,
   "id": "f5597334",
   "metadata": {},
   "outputs": [],
   "source": [
    "# Se define el universo de valores de t de interés y el valor inicial de y\n",
    "ti = 0.0\n",
    "tf = 5.0\n",
    "t = np.arange(ti, tf, h)\n",
    "y0 = 100.0\n",
    "dx= (tf-ti)/h"
   ]
  },
  {
   "cell_type": "code",
   "execution_count": 11,
   "id": "4623933c",
   "metadata": {},
   "outputs": [],
   "source": [
    "# Luego se calculan los valores aproximados de y(t) por Euler\n",
    "y_aprox_Euler = EDOEuler(F, y0, t)"
   ]
  },
  {
   "cell_type": "code",
   "execution_count": 17,
   "id": "893d38cf",
   "metadata": {},
   "outputs": [
    {
     "name": "stdout",
     "output_type": "stream",
     "text": [
      "[100.          77.88007831  60.65306597  47.23665527  36.78794412\n",
      "  28.65047969  22.31301601  17.37739435  13.53352832  10.53992246\n",
      "   8.20849986   6.39278612   4.97870684   3.87742078   3.01973834\n",
      "   2.35177459   1.83156389   1.42642339   1.11089965   0.86516952]\n"
     ]
    }
   ],
   "source": [
    "# Se calculan los valores verdaderos de y(t)\n",
    "y_verdadero = y0*np.exp(-t)\n",
    "print(y_verdadero)"
   ]
  },
  {
   "cell_type": "code",
   "execution_count": 18,
   "id": "ac708466",
   "metadata": {
    "scrolled": false
   },
   "outputs": [
    {
     "name": "stdout",
     "output_type": "stream",
     "text": [
      "[100.          78.125       61.03515625  47.68371582  37.25290298\n",
      "  29.10383046  22.73736754  17.76356839  13.87778781  10.84202172\n",
      "   8.47032947   6.6174449    5.16987883   4.03896783   3.15544362\n",
      "   2.46519033   1.92592994   1.50463277   1.17549435   0.91835496]\n"
     ]
    }
   ],
   "source": [
    "y_mejorado = EDOEuler_m(y0, t)\n",
    "print(y_mejorado)"
   ]
  },
  {
   "cell_type": "code",
   "execution_count": 16,
   "id": "068aaba7",
   "metadata": {
    "scrolled": true
   },
   "outputs": [
    {
     "data": {
      "image/png": "[encoded data removed]",
      "text/plain": [
       "<Figure size 432x288 with 1 Axes>"
      ]
     },
     "metadata": {
      "needs_background": "light"
     },
     "output_type": "display_data"
    }
   ],
   "source": [
    "# Se prepara un gráfico para comparar los resultados\n",
    "fig = plt.figure()\n",
    "plt.plot(t, y_aprox_Euler, 'b.-', label='Valor aproximado Euler')\n",
    "plt.plot(t, y_verdadero, 'r-', label='Valor verdadero')\n",
    "plt.plot(t, y_mejorado, 'g-', label = 'Valor mejorado')\n",
    "plt.axis([ti, tf, 0.0, y0+20.0])\n",
    "plt.xlabel(\"t (s)\")\n",
    "plt.ylabel(\"y (numero particulas)\")\n",
    "plt.xlim(0,3)\n",
    "plt.ylim(0,40)\n",
    "plt.grid(True)\n",
    "plt.title(\"Solucion de $y'=-y$ con $ y(0)=100$\")\n",
    "plt.legend(loc='upper right')\n",
    "fig.savefig(\"04 EDO - EJEM01 Euler.png\")\n"
   ]
  },
  {
   "cell_type": "code",
   "execution_count": null,
   "id": "0575f66c",
   "metadata": {},
   "outputs": [],
   "source": []
  }
 ],
 "metadata": {
  "jupytext": {
   "cell_metadata_filter": "-all",
   "encoding": "# coding=utf-8",
   "notebook_metadata_filter": "-all",
   "text_representation": {
    "extension": ".py",
    "format_name": "light"
   }
  },
  "kernelspec": {
   "display_name": "Python 3 (ipykernel)",
   "language": "python",
   "name": "python3"
  },
  "language_info": {
   "codemirror_mode": {
    "name": "ipython",
    "version": 3
   },
   "file_extension": ".py",
   "mimetype": "text/x-python",
   "name": "python",
   "nbconvert_exporter": "python",
   "pygments_lexer": "ipython3",
   "version": "3.8.12"
  }
 },
 "nbformat": 4,
 "nbformat_minor": 5
}
